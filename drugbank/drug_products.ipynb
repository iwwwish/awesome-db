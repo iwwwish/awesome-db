{
 "cells": [
  {
   "cell_type": "markdown",
   "metadata": {},
   "source": [
    "# Parse DrugBank XML to extract drug product data"
   ]
  },
  {
   "cell_type": "code",
   "execution_count": 1,
   "metadata": {},
   "outputs": [],
   "source": [
    "import collections\n",
    "import gzip\n",
    "import os.path\n",
    "import pandas as pd\n",
    "import xml.etree.ElementTree as ET"
   ]
  },
  {
   "cell_type": "code",
   "execution_count": 2,
   "metadata": {},
   "outputs": [],
   "source": [
    "'''\n",
    "Helper Functions\n",
    "'''\n",
    "\n",
    "def collapse_list_values(row):\n",
    "    for key, value in row.items():\n",
    "        if isinstance(value, list):\n",
    "            row[key] = '|'.join(value)\n",
    "    return row\n",
    "\n",
    "def parse_xml(path):\n",
    "    ext = os.path.splitext(path)[1]\n",
    "    if ext == '.xml':\n",
    "        print('Input type: xml')\n",
    "        tree = ET.parse(db_file)\n",
    "        return tree.getroot()\n",
    "    elif ext == '.gzip':\n",
    "        print('Input type: xml.gzip')\n",
    "        with gzip.open(path) as xml_file:\n",
    "            tree = ET.parse(xml_file)\n",
    "        return tree.getroot()"
   ]
  },
  {
   "cell_type": "code",
   "execution_count": 3,
   "metadata": {},
   "outputs": [
    {
     "name": "stdout",
     "output_type": "stream",
     "text": [
      "Input type: xml\n"
     ]
    }
   ],
   "source": [
    "# parse drugbank XML file (www.drugbank.ca/releases/5-1-4/downloads/all-full-database)\n",
    "db_file = 'full_database.xml'\n",
    "root = parse_xml(db_file)"
   ]
  },
  {
   "cell_type": "code",
   "execution_count": 5,
   "metadata": {},
   "outputs": [
    {
     "name": "stdout",
     "output_type": "stream",
     "text": [
      "finished parsing xml tree\n"
     ]
    }
   ],
   "source": [
    "#namespace\n",
    "ns = '{http://www.drugbank.ca}'\n",
    "\n",
    "# product list to be populated\n",
    "products = list()\n",
    "\n",
    "# parse xml tree\n",
    "drugs = root.getchildren()\n",
    "for drug in drugs:\n",
    "    dname = drug.findtext(ns + \"name\") # drug name\n",
    "    dtype = drug.get('type') # drug type (e.g. small molecule, biotec etc.)\n",
    "    db_id = drug.findtext(ns + \"drugbank-id[@primary='true']\")\n",
    "    prod_list = drug.findall('{ns}products'.format(ns = ns))\n",
    "    for prod in prod_list:\n",
    "        prods = prod.getchildren()\n",
    "        for p in prods:\n",
    "            # dictionary to populate product info (each row is a product)\n",
    "            row = collections.OrderedDict()\n",
    "            row['drug_name'] = dname\n",
    "            row['drug_type'] = dtype\n",
    "            row['drugbank_id'] = db_id\n",
    "            row['product_name'] = p.find(\"{ns}name\".format(ns = ns)).text\n",
    "            row['labeller'] = p.find(\"{ns}labeller\".format(ns = ns)).text\n",
    "            row['ndc_id'] = p.find(\"{ns}ndc-id\".format(ns = ns)).text\n",
    "            row['ndc_product_code'] = p.find(\"{ns}ndc-product-code\".format(ns = ns)).text\n",
    "            row['dpd_id'] = p.find(\"{ns}dpd-id\".format(ns = ns)).text\n",
    "            row['marketing_start'] = p.find(\"{ns}started-marketing-on\".format(ns = ns)).text\n",
    "            row['marketing_end'] = p.find(\"{ns}ended-marketing-on\".format(ns = ns)).text\n",
    "            row['dosage_form'] = p.find(\"{ns}dosage-form\".format(ns = ns)).text\n",
    "            row['strength'] = p.find(\"{ns}strength\".format(ns = ns)).text\n",
    "            row['route'] = p.find(\"{ns}route\".format(ns = ns)).text\n",
    "            row['fda_appl_no'] = p.find(\"{ns}fda-application-number\".format(ns = ns)).text\n",
    "            row['generic'] = p.find(\"{ns}generic\".format(ns = ns)).text\n",
    "            row['otc'] = p.find(\"{ns}over-the-counter\".format(ns = ns)).text\n",
    "            row['approved'] = p.find(\"{ns}approved\".format(ns = ns)).text\n",
    "            row['country'] = p.find(\"{ns}country\".format(ns = ns)).text\n",
    "            row['source'] = p.find(\"{ns}source\".format(ns = ns)).text\n",
    "            products.append(row)\n",
    "print('finished parsing xml tree')"
   ]
  },
  {
   "cell_type": "code",
   "execution_count": 8,
   "metadata": {},
   "outputs": [],
   "source": [
    "db_products = list(map(collapse_list_values, products))\n",
    "cols = ['drug_name', 'drug_type', 'drugbank_id', 'product_name', 'labeller', 'ndc_id', 'ndc_product_code', 'dpd_id', 'marketing_start', 'marketing_end', 'dosage_form', 'strength', 'route', 'fda_appl_no', 'generic', 'otc', 'approved', 'country', 'source']\n",
    "df = pd.DataFrame.from_dict(db_products)[cols]"
   ]
  },
  {
   "cell_type": "code",
   "execution_count": 10,
   "metadata": {},
   "outputs": [
    {
     "name": "stdout",
     "output_type": "stream",
     "text": [
      "total products: 298383\n"
     ]
    }
   ],
   "source": [
    "df.to_csv('drugbank_products.csv', index=None, header=True)\n",
    "print('total products: %s' % df.shape[0])"
   ]
  },
  {
   "cell_type": "code",
   "execution_count": null,
   "metadata": {},
   "outputs": [],
   "source": []
  }
 ],
 "metadata": {
  "anaconda-cloud": {},
  "kernelspec": {
   "display_name": "Python 3",
   "language": "python",
   "name": "python3"
  },
  "language_info": {
   "codemirror_mode": {
    "name": "ipython",
    "version": 3
   },
   "file_extension": ".py",
   "mimetype": "text/x-python",
   "name": "python",
   "nbconvert_exporter": "python",
   "pygments_lexer": "ipython3",
   "version": "3.6.5"
  }
 },
 "nbformat": 4,
 "nbformat_minor": 1
}
